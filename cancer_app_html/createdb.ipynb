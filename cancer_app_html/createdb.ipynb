{
 "cells": [
  {
   "cell_type": "code",
   "execution_count": 12,
   "id": "7d722c2f-83b0-42a1-8c8a-a48656aa660b",
   "metadata": {
    "tags": []
   },
   "outputs": [],
   "source": [
    "from pymongo import MongoClient"
   ]
  },
  {
   "cell_type": "code",
   "execution_count": 11,
   "id": "c0bc3d25-1257-4db4-9bbd-16e6b5e2ea22",
   "metadata": {
    "tags": []
   },
   "outputs": [
    {
     "name": "stdout",
     "output_type": "stream",
     "text": [
      "Inserted document with _id: 669de6d257a3f71cdb776df7\n",
      "{'_id': ObjectId('669de6d257a3f71cdb776df7'), 'radius': 1.0, 'texture': 1.0, 'perimeter': 1.0, 'area': 0.0, 'smoothness': 0.0, 'compactness': 0.0, 'concavity': 0.0, 'concave_points': 0.0, 'symmetry': 0.0, 'fractal_dimension': 0.0}\n"
     ]
    }
   ],
   "source": [
    "# Replace the URI string with your MongoDB deployment's connection string.\n",
    "client = MongoClient(\"mongodb://localhost:27017/\")\n",
    "\n",
    "# Access a database\n",
    "db = client.Breast_Cancer_Tumor_Metrics\n",
    "\n",
    "# Access a collection\n",
    "collection = db.Metrics_Table\n",
    "\n",
    "# Insert a document into the collection\n",
    "result = collection.insert_many([\n",
    "    {\"radius\": 1.00, \"texture\": 1.0, \"perimeter\": 1.0, \"area\": 0.0, \"smoothness\": 0.0, \n",
    "     \"compactness\": 0.0, \"concavity\": 0.0, \"concave_points\": 0.0, \"symmetry\": 0.0, \n",
    "     \"fractal_dimension\": 0.0}\n",
    "])\n",
    "print(f\"Inserted document with _id: {result.inserted_ids[0]}\")\n",
    "\n",
    "# Query the collection\n",
    "documents = collection.find()\n",
    "for doc in documents:\n",
    "    print(doc)"
   ]
  },
  {
   "cell_type": "code",
   "execution_count": null,
   "id": "ad1415bb-fba3-4d19-9479-9ab8a91fedbe",
   "metadata": {},
   "outputs": [],
   "source": []
  }
 ],
 "metadata": {
  "kernelspec": {
   "display_name": "Python 3 (ipykernel)",
   "language": "python",
   "name": "python3"
  },
  "language_info": {
   "codemirror_mode": {
    "name": "ipython",
    "version": 3
   },
   "file_extension": ".py",
   "mimetype": "text/x-python",
   "name": "python",
   "nbconvert_exporter": "python",
   "pygments_lexer": "ipython3",
   "version": "3.10.13"
  }
 },
 "nbformat": 4,
 "nbformat_minor": 5
}
